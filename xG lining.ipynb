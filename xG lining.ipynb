{
 "cells": [
  {
   "cell_type": "code",
   "execution_count": 1,
   "id": "2637261a",
   "metadata": {},
   "outputs": [
    {
     "name": "stdout",
     "output_type": "stream",
     "text": [
      "Requirement already satisfied: lxml in c:\\users\\nom\\anaconda3\\lib\\site-packages (4.8.0)\n",
      "Note: you may need to restart the kernel to use updated packages.\n"
     ]
    }
   ],
   "source": [
    "pip install lxml"
   ]
  },
  {
   "cell_type": "code",
   "execution_count": 2,
   "id": "331e2ebb",
   "metadata": {},
   "outputs": [],
   "source": [
    "import requests\n",
    "from bs4 import BeautifulSoup \n",
    "import json\n",
    "import pandas as pd"
   ]
  },
  {
   "cell_type": "code",
   "execution_count": 3,
   "id": "74624429",
   "metadata": {},
   "outputs": [],
   "source": [
    "url = 'https://understat.com/match/19915'"
   ]
  },
  {
   "cell_type": "code",
   "execution_count": 4,
   "id": "3d6fd51c",
   "metadata": {},
   "outputs": [],
   "source": [
    "res = requests.get(url)\n",
    "soup = BeautifulSoup(res.content, 'lxml')\n",
    "scripts = soup.find_all('script')"
   ]
  },
  {
   "cell_type": "code",
   "execution_count": 5,
   "id": "34ac6b9e",
   "metadata": {},
   "outputs": [],
   "source": [
    "strings = scripts[1].string"
   ]
  },
  {
   "cell_type": "code",
   "execution_count": 6,
   "id": "7f686b07",
   "metadata": {},
   "outputs": [],
   "source": [
    "ind_start = strings.index(\"('\")+2\n",
    "ind_end = strings.index(\"')\")\n",
    "json_data = strings[ind_start:ind_end]\n",
    "json_data = json_data.encode('utf8').decode('unicode_escape')"
   ]
  },
  {
   "cell_type": "code",
   "execution_count": 7,
   "id": "42efdb75",
   "metadata": {},
   "outputs": [],
   "source": [
    "data = json.loads(json_data)\n",
    "#print(data)"
   ]
  },
  {
   "cell_type": "code",
   "execution_count": 18,
   "id": "8683ecb0",
   "metadata": {},
   "outputs": [],
   "source": [
    "x = []\n",
    "y = []\n",
    "xG = []\n",
    "result = []\n",
    "team = []\n",
    "data_away = data['a']\n",
    "data_home = data['h']\n",
    "minute = []\n",
    "shotType = []\n",
    "player = []\n",
    "match_id = []\n",
    "situation = []\n",
    "player_assisted = []\n",
    "lastAction = []\n",
    "\n",
    "for index in range(len(data_home)):\n",
    "    for key in data_home[index]:\n",
    "        if key == 'X':\n",
    "            x.append(data_home[index][key])\n",
    "        if key == 'Y':\n",
    "            y.append(data_home[index][key])\n",
    "        if key == 'h_team':\n",
    "            team.append(data_home[index][key])\n",
    "        if key == 'xG':\n",
    "            xG.append(data_home[index][key])\n",
    "        if key == 'result':\n",
    "            result.append(data_home[index][key])\n",
    "        if key == 'minute':\n",
    "            minute.append(data_home[index][key])\n",
    "        if key == 'shotType':\n",
    "            shotType.append(data_home[index][key])\n",
    "        if key == 'player':\n",
    "            player.append(data_home[index][key])\n",
    "        if key == 'match_id':\n",
    "            match_id.append(data_home[index][key])\n",
    "        if key == 'situation':\n",
    "            situation.append(data_home[index][key])\n",
    "        if key == 'player_assisted':\n",
    "            player_assisted.append(data_home[index][key])\n",
    "        if key == 'lastAction':\n",
    "            lastAction.append(data_home[index][key])\n",
    "\n",
    "for index in range(len(data_away)):\n",
    "    for key in data_away[index]:\n",
    "        if key == 'X':\n",
    "            x.append(data_away[index][key])\n",
    "        if key == 'Y':\n",
    "            y.append(data_away[index][key])\n",
    "        if key == 'a_team':\n",
    "            team.append(data_away[index][key])\n",
    "        if key == 'xG':\n",
    "            xG.append(data_away[index][key])\n",
    "        if key == 'result':\n",
    "            result.append(data_away[index][key])\n",
    "        if key == 'minute':\n",
    "            minute.append(data_away[index][key])\n",
    "        if key == 'shotType':\n",
    "            shotType.append(data_away[index][key])\n",
    "        if key == 'player':\n",
    "            player.append(data_away[index][key])\n",
    "        if key == 'match_id':\n",
    "            match_id.append(data_away[index][key])\n",
    "        if key == 'situation':\n",
    "            situation.append(data_away[index][key])\n",
    "        if key == 'player_assisted':\n",
    "            player_assisted.append(data_away[index][key])\n",
    "        if key == 'lastAction':\n",
    "            lastAction.append(data_away[index][key])\n",
    "\n",
    "col_names = ['x','y','xG','result','team','minute','shotType','player','match_id','situation','player_assisted','lastAction']\n",
    "df = pd.DataFrame([x,y,xG,result,team,minute,shotType,player,match_id,situation,player_assisted,lastAction],index=col_names)\n",
    "df = df.T\n",
    "\n",
    "df.to_csv('data.csv', index=False, header=True)"
   ]
  }
 ],
 "metadata": {
  "kernelspec": {
   "display_name": "Python 3 (ipykernel)",
   "language": "python",
   "name": "python3"
  },
  "language_info": {
   "codemirror_mode": {
    "name": "ipython",
    "version": 3
   },
   "file_extension": ".py",
   "mimetype": "text/x-python",
   "name": "python",
   "nbconvert_exporter": "python",
   "pygments_lexer": "ipython3",
   "version": "3.9.12"
  }
 },
 "nbformat": 4,
 "nbformat_minor": 5
}
